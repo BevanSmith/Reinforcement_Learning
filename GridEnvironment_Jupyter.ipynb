{
 "cells": [
  {
   "cell_type": "code",
   "execution_count": 1,
   "id": "cc2c4b5e",
   "metadata": {},
   "outputs": [],
   "source": [
    "#note that this Agent class was taken from Phil Tabor.  Modified slightly.  All credit to Phil Tabor.\n",
    "class Agent:\n",
    "    def __init__(self, lr, gamma, n_actions, eps_start, eps_end, eps_dec):\n",
    "        self.lr = lr\n",
    "        self.gamma = gamma\n",
    "        self.n_actions = n_actions\n",
    "        self.epsilon = eps_start\n",
    "        self.eps_min = eps_end\n",
    "        self.eps_dec = eps_dec\n",
    "\n",
    "        self.Q = {}  #initialize an empty dictionary to store the q values\n",
    "\n",
    "        #greedy-epsilon\n",
    "    def choose_actions(self, state):\n",
    "        if np.random.rand() < self.epsilon:  #select random action if less than epsilon\n",
    "            action = np.random.choice([i for i in range(self.n_actions)])\n",
    "        else:\n",
    "            actions = np.array([self.Q.get((state, a), 0.0) for a in range(self.n_actions)])\n",
    "            action = np.argmax(actions)   #select action that gives max q value\n",
    "        return action\n",
    "\n",
    "    def learn(self, state, action, reward, next_state):\n",
    "        #select the max q value in the next state\n",
    "        actions_next = np.array([self.Q.get((next_state, a), 0.0) for a in range(self.n_actions)])  #create np array\n",
    "        a_max = np.argmax(actions_next)   # find the index of max q value\n",
    "\n",
    "        # bellman update equation (updating the state, action pair in the q table)\n",
    "        self.Q[(state, action)] = self.Q.get((state, action), 0.0) + self.lr * (\n",
    "            reward + self.gamma * actions_next[a_max] - self.Q.get((state, action), 0.0)\n",
    "        )\n",
    "\n",
    "        self.decrement_epsilon()\n",
    "\n",
    "    def decrement_epsilon(self):\n",
    "        self.epsilon = self.epsilon * self.eps_dec if self.epsilon > self.eps_min else self.eps_min\n",
    "        \n",
    "    # after model has learned (i.e. q table converged), we can now feed in a state and the model will \n",
    "    # give us the optimal action.\n",
    "    def final_model(self,state):\n",
    "        actions = np.array([self.Q.get((state,a), 0.0) for a in range(self.n_actions)])\n",
    "        action = np.argmax(actions)\n",
    "        if action == 0:\n",
    "            out = \"up\"\n",
    "        elif action == 1:\n",
    "            out = \"down\"\n",
    "        elif action == 2:\n",
    "            out = \"left\"\n",
    "        else:\n",
    "            out = \"right\"\n",
    "        return out\n",
    "\n"
   ]
  },
  {
   "cell_type": "code",
   "execution_count": null,
   "id": "a3698485",
   "metadata": {},
   "outputs": [],
   "source": []
  },
  {
   "cell_type": "code",
   "execution_count": 2,
   "id": "fa3e73bf",
   "metadata": {},
   "outputs": [],
   "source": [
    "import gym\n",
    "import numpy as np\n",
    "import matplotlib.pyplot as plt\n",
    "\n",
    "\n",
    "\n",
    "\n",
    "class GridEnv(gym.Env):  \n",
    "    # GridEnv inherits from the gym.Env class.  GridEnv is a subclass\n",
    "    # By inheriting it follows the OpenAI Gym env interface that includes methods such as\n",
    "    # reset, step, render which are commonly used in RL envs. \n",
    "    # By using this interface it allows instances of this GridEnv class to be used  with algos\n",
    "    # and tools that are designed to work with the Gym env interface.\n",
    "    \n",
    "    def __init__(self, square_grid_size):\n",
    "        super(GridEnv, self).__init__()\n",
    "\n",
    "        # Initialize the state space\n",
    "        self.size = square_grid_size\n",
    "    \n",
    "   \n",
    "    def reset(self):\n",
    "        # Reset the environment to the initial state (top-left corner) of the Agent\n",
    "        self.state = (0, 0)  #row, column\n",
    "        self.total_reward = 0\n",
    "\n",
    "     \n",
    "\n",
    "    def step(self, action):\n",
    "        # Take an action and return the new state, reward, and whether the episode is done\n",
    "\n",
    "        # Define possible actions: 0 - Up, 1 - Down, 2 - Left, 3 - Right\n",
    "        if action == 0 and self.state[0] > 0:\n",
    "            self.state = (self.state[0] - 1, self.state[1])\n",
    "        elif action == 1 and self.state[0] < self.size:\n",
    "            self.state = (self.state[0] + 1, self.state[1])\n",
    "        elif action == 2 and self.state[1] > 0:\n",
    "            self.state = (self.state[0], self.state[1] - 1)\n",
    "        elif action == 3 and self.state[1] < self.size:\n",
    "            self.state = (self.state[0], self.state[1] + 1)\n",
    "\n",
    "       \n",
    "    # rewards\n",
    "        if self.state == (self.size, self.size):\n",
    "            reward = 1000\n",
    "        elif self.state== (self.size,0):\n",
    "            reward = -1000\n",
    "        else:\n",
    "            reward = -1\n",
    "\n",
    "\n",
    "        # Check if the episode is done (reached a terminal state)\n",
    "        done = (self.state == (self.size, self.size)) or (self.state == (self.size, 0))\n",
    "\n",
    "        return self.state, reward, done\n",
    "\n",
    "    \n",
    "\n",
    "    def render(self, trajectory=None):\n",
    "        pass\n",
    "\n",
    "\n",
    "\n",
    "\n",
    "\n",
    "#%%\n",
    "\n",
    "\n",
    "\n"
   ]
  },
  {
   "cell_type": "markdown",
   "id": "f385defb",
   "metadata": {},
   "source": [
    "## run the episodes"
   ]
  },
  {
   "cell_type": "code",
   "execution_count": 3,
   "id": "b6649748",
   "metadata": {},
   "outputs": [
    {
     "data": {
      "text/plain": [
       "Text(0, 0.5, 'reward')"
      ]
     },
     "execution_count": 3,
     "metadata": {},
     "output_type": "execute_result"
    },
    {
     "data": {
      "image/png": "[encoded data removed]",
      "text/plain": [
       "<Figure size 640x480 with 1 Axes>"
      ]
     },
     "metadata": {},
     "output_type": "display_data"
    }
   ],
   "source": [
    "if __name__ == '__main__':\n",
    "    env = GridEnv(square_grid_size=10)\n",
    "    agent = Agent(gamma=0.995,lr = 0.01, n_actions =4,\n",
    "              eps_dec=0.9, eps_end= 0.01, eps_start=1.0)\n",
    "    scores = []\n",
    "    n_eps = 1000\n",
    "    win_pct_list = []\n",
    "    trajectory = []\n",
    "    \n",
    "    \n",
    "    for i in range(n_eps):\n",
    "        done = False\n",
    "        state = env.reset()\n",
    "        score = 0\n",
    "        \n",
    "        while not done:\n",
    "            action = agent.choose_actions(state)\n",
    "            state_, reward, done = env.step(action)\n",
    "            agent.learn(state, action, reward, state_)\n",
    "            score += reward\n",
    "            state = state_\n",
    "            \n",
    "     \n",
    "        scores.append(score)\n",
    "       \n",
    "       \n",
    "plt.plot(scores)     \n",
    "plt.xlabel('iterations')\n",
    "plt.ylabel('reward')\n",
    "   \n",
    "        "
   ]
  },
  {
   "cell_type": "code",
   "execution_count": 5,
   "id": "cf05d1da",
   "metadata": {},
   "outputs": [
    {
     "data": {
      "text/plain": [
       "'down'"
      ]
     },
     "execution_count": 5,
     "metadata": {},
     "output_type": "execute_result"
    }
   ],
   "source": [
    "agent.final_model((5,5))"
   ]
  },
  {
   "cell_type": "code",
   "execution_count": null,
   "id": "ed89d963",
   "metadata": {},
   "outputs": [],
   "source": []
  }
 ],
 "metadata": {
  "kernelspec": {
   "display_name": "Python 3 (ipykernel)",
   "language": "python",
   "name": "python3"
  },
  "language_info": {
   "codemirror_mode": {
    "name": "ipython",
    "version": 3
   },
   "file_extension": ".py",
   "mimetype": "text/x-python",
   "name": "python",
   "nbconvert_exporter": "python",
   "pygments_lexer": "ipython3",
   "version": "3.10.7"
  }
 },
 "nbformat": 4,
 "nbformat_minor": 5
}
